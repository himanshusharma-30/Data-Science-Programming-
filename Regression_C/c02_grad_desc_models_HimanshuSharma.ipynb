{
 "cells": [
  {
   "cell_type": "markdown",
   "metadata": {},
   "source": [
    "# Gradient Descent Models\n",
    "\n",
    "We will predict the price (`price` column) of an AirBNB dataset used last week.\n",
    "\n",
    "**Therefore, our unit of analysis is an AIRBNB LISTING**"
   ]
  },
  {
   "cell_type": "markdown",
   "metadata": {},
   "source": [
    "## 1. Setup"
   ]
  },
  {
   "cell_type": "code",
   "execution_count": 68,
   "metadata": {},
   "outputs": [],
   "source": [
    "# Common imports\n",
    "import numpy as np\n",
    "import pandas as pd\n",
    "from sklearn.metrics import mean_squared_error\n",
    "from sklearn.linear_model import SGDRegressor \n",
    "from sklearn.dummy import DummyRegressor\n",
    "\n",
    "np.random.seed(1)"
   ]
  },
  {
   "cell_type": "markdown",
   "metadata": {},
   "source": [
    "# 2. Load the data"
   ]
  },
  {
   "cell_type": "markdown",
   "metadata": {},
   "source": [
    "We will use the AirBNB data that we cleaned in last class (the original, not the one that you altered for last weeks exercise)."
   ]
  },
  {
   "cell_type": "code",
   "execution_count": 69,
   "metadata": {},
   "outputs": [],
   "source": [
    "X_train = pd.read_csv(\"airbnb_train_X_price.csv\")\n",
    "X_test = pd.read_csv(\"airbnb_test_X_price.csv\")\n",
    "y_train = pd.read_csv(\"airbnb_train_y_price.csv\")\n",
    "y_test = pd.read_csv(\"airbnb_test_y_price.csv\")"
   ]
  },
  {
   "cell_type": "markdown",
   "metadata": {},
   "source": [
    "## 3. Model the data\n",
    "\n",
    "First, we will create a dataframe to hold all the results of our models."
   ]
  },
  {
   "cell_type": "code",
   "execution_count": 70,
   "metadata": {},
   "outputs": [],
   "source": [
    "results = pd.DataFrame(y_train, columns=[\"actual\"])\n",
    "\n",
    "rmses = pd.DataFrame({\"model\": [], \"rmse\": []})"
   ]
  },
  {
   "cell_type": "markdown",
   "metadata": {},
   "source": [
    "### 3.1 Fit and test the baseline Model"
   ]
  },
  {
   "cell_type": "code",
   "execution_count": 71,
   "metadata": {},
   "outputs": [],
   "source": [
    "dummy_reg = DummyRegressor(strategy=\"mean\")\n",
    "_ = dummy_reg.fit(X_train, y_train)\n",
    "\n",
    "results[\"dummy\"] = dummy_reg.predict(X_train)"
   ]
  },
  {
   "cell_type": "code",
   "execution_count": 72,
   "metadata": {},
   "outputs": [
    {
     "name": "stdout",
     "output_type": "stream",
     "text": [
      "Baseline Test RMSE: 102.625\n"
     ]
    }
   ],
   "source": [
    "#Baseline Test RMSE\n",
    "dummy_test_pred = dummy_reg.predict(X_test)\n",
    "dummy_test_rmse = np.sqrt(mean_squared_error(y_test, dummy_test_pred))\n",
    "\n",
    "rmses = pd.concat([rmses, pd.DataFrame({'model':\"baseline\", 'rmse': dummy_test_rmse}, index=[0])])\n",
    "\n",
    "print(f\"Baseline Test RMSE: {dummy_test_rmse:.3f}\")\n"
   ]
  },
  {
   "cell_type": "markdown",
   "metadata": {},
   "source": [
    "### 3.2  Fit and test a Linear Regression Using Stochastic Gradient Descent"
   ]
  },
  {
   "cell_type": "code",
   "execution_count": 73,
   "metadata": {},
   "outputs": [
    {
     "name": "stdout",
     "output_type": "stream",
     "text": [
      "Number of iterations = 46\n"
     ]
    }
   ],
   "source": [
    "#Stochastic Gradient Descent:\n",
    "# https://scikit-learn.org/stable/modules/sgd.html\n",
    "# https://scikit-learn.org/stable/modules/generated/sklearn.linear_model.SGDRegressor.html#sklearn.linear_model.SGDRegressor\n",
    "\n",
    "\n",
    "# eta0 = learning rate\n",
    "# max_iter = number of passes over training data (i.e., epochs)\n",
    "\n",
    "sgd_reg = SGDRegressor(max_iter=100, penalty=None, eta0=0.01)\n",
    "X_train=X_train.drop(columns=['price_category'])\n",
    "sgd_reg.fit(X_train, np.ravel(y_train))\n",
    "\n",
    "\n",
    "print(f\"Number of iterations = {sgd_reg.n_iter_}\")\n",
    "\n",
    "results[\"SGD_preds\"] = sgd_reg.predict(X_train)"
   ]
  },
  {
   "cell_type": "code",
   "execution_count": 74,
   "metadata": {},
   "outputs": [
    {
     "name": "stdout",
     "output_type": "stream",
     "text": [
      "SGD Test RMSE: 57.286\n"
     ]
    }
   ],
   "source": [
    "#SGD Test RMSE\n",
    "X_test=X_test.drop(columns=['price_category'])\n",
    "SGD_test_pred = sgd_reg.predict(X_test)\n",
    "SGD_test_rmse = np.sqrt(mean_squared_error(y_test, SGD_test_pred))\n",
    "\n",
    "rmses = pd.concat([rmses, pd.DataFrame({'model':\"SGD\", 'rmse': SGD_test_rmse}, index=[0])])\n",
    "\n",
    "print(f\"SGD Test RMSE: {SGD_test_rmse:.3f}\")"
   ]
  },
  {
   "cell_type": "markdown",
   "metadata": {},
   "source": [
    "### 3.3 Fit and test SGDRegression using L2 Regularization"
   ]
  },
  {
   "cell_type": "code",
   "execution_count": 75,
   "metadata": {},
   "outputs": [],
   "source": [
    "#Stochastic Gradient with L2 regularization:\n",
    "\n",
    "# eta0 = learning rate\n",
    "# penalty = regularization term\n",
    "# alphe = regularization strength (lambda)\n",
    "# max_iter = number of passes over training data (i.e., epochs)\n",
    "\n",
    "#sklearn.linear_model.SGDRegressor(loss='squared_error', *, penalty='l2', alpha=0.0001, l1_ratio=0.15, fit_intercept=True, max_iter=1000, tol=0.001, shuffle=True, verbose=0, epsilon=0.1, random_state=None, learning_rate='invscaling', eta0=0.01, power_t=0.25, early_stopping=False, validation_fraction=0.1, n_iter_no_change=5, warm_start=False, average=False\n",
    "\n",
    "sgd_reg_l2 = SGDRegressor(max_iter=100, penalty='l2', alpha = 0.1, eta0=0.01)\n",
    "_ = sgd_reg_l2.fit(X_train, np.ravel(y_train))\n",
    "\n",
    "# print(f\"Number of iterations = {sgd_reg_l2.n_iter_}\")\n",
    "\n",
    "# results[\"SGD_preds_l2\"] = sgd_reg_l2.predict(X_train)\n"
   ]
  },
  {
   "cell_type": "code",
   "execution_count": 76,
   "metadata": {},
   "outputs": [
    {
     "name": "stdout",
     "output_type": "stream",
     "text": [
      "SGD Test with l2 RMSE: 59.598\n"
     ]
    }
   ],
   "source": [
    "#Train RMSE\n",
    "#SGD Test RMSE\n",
    "SGD_test_pred_l2 = sgd_reg_l2.predict(X_test)\n",
    "SGD_test_rmse_l2 = np.sqrt(mean_squared_error(y_test, SGD_test_pred_l2))\n",
    "\n",
    "rmses = pd.concat([rmses, pd.DataFrame({'model':\"SGD L2\", 'rmse': SGD_test_rmse_l2}, index=[0])])\n",
    "\n",
    "print(f\"SGD Test with l2 RMSE: {SGD_test_rmse_l2:.3f}\")"
   ]
  },
  {
   "cell_type": "markdown",
   "metadata": {},
   "source": [
    "### 3.4 Fit and test SGDRegression Using L1 Regularization"
   ]
  },
  {
   "cell_type": "code",
   "execution_count": 77,
   "metadata": {},
   "outputs": [
    {
     "name": "stdout",
     "output_type": "stream",
     "text": [
      "Number of iterations = 46\n"
     ]
    }
   ],
   "source": [
    "#Stochastic Gradient with L1 regularization:\n",
    "\n",
    "# eta0 = learning rate\n",
    "# penalty = regularization term\n",
    "# alphe = regularization strength (lambda)\n",
    "# max_iter = number of passes over training data (i.e., epochs)\n",
    "\n",
    "sgd_reg_l1 = SGDRegressor(max_iter=100, penalty='l1', alpha = 0.1, eta0=0.01)\n",
    "_ = sgd_reg_l1.fit(X_train, np.ravel(y_train))\n",
    "\n",
    "print(f\"Number of iterations = {sgd_reg_l1.n_iter_}\")\n",
    "\n",
    "results[\"SGD_preds_l1\"] = sgd_reg_l1.predict(X_train)"
   ]
  },
  {
   "cell_type": "code",
   "execution_count": 78,
   "metadata": {},
   "outputs": [
    {
     "name": "stdout",
     "output_type": "stream",
     "text": [
      "SGD with l1 Test RMSE: 57.354\n"
     ]
    }
   ],
   "source": [
    "#Train RMSE\n",
    "#SGD Test RMSE with L1\n",
    "SGD_test_pred_l1 = sgd_reg_l1.predict(X_test)\n",
    "SGD_test_rmse_l1 = np.sqrt(mean_squared_error(y_test, SGD_test_pred_l1))\n",
    "\n",
    "rmses = pd.concat([rmses, pd.DataFrame({'model':\"SGD L1\", 'rmse': SGD_test_rmse_l1}, index=[0])])\n",
    "\n",
    "print(f\"SGD with l1 Test RMSE: {SGD_test_rmse_l1:.3f}\")"
   ]
  },
  {
   "cell_type": "markdown",
   "metadata": {},
   "source": [
    "### 3.5 Fit and test SGDRegression using ElasticNet Regularization"
   ]
  },
  {
   "cell_type": "code",
   "execution_count": 79,
   "metadata": {},
   "outputs": [
    {
     "name": "stdout",
     "output_type": "stream",
     "text": [
      "Number of iterations = 34\n"
     ]
    }
   ],
   "source": [
    "#Stochastic Gradient with Elastic Net regularization:\n",
    "\n",
    "# eta0 = learning rate\n",
    "# penalty = regularization term\n",
    "# alphe = regularization strength (lambda)\n",
    "# max_iter = number of passes over training data (i.e., epochs)\n",
    "\n",
    "sgd_reg_elastic = SGDRegressor(max_iter=100, penalty='elasticnet', l1_ratio=0.5, alpha = 0.1, eta0=0.01)\n",
    "sgd_reg_elastic.fit(X_train, np.ravel(y_train))\n",
    "\n",
    "print(f\"Number of iterations = {sgd_reg_elastic.n_iter_}\")\n",
    "\n",
    "results[\"SGD_preds_elastic\"] = sgd_reg_elastic.predict(X_train)"
   ]
  },
  {
   "cell_type": "code",
   "execution_count": 80,
   "metadata": {},
   "outputs": [
    {
     "name": "stdout",
     "output_type": "stream",
     "text": [
      "SGD wt ElasticNet Test RMSE: 58.570\n"
     ]
    }
   ],
   "source": [
    "#Train RMSE\n",
    "#SGD Test RMSE with ElasticNet\n",
    "SGD_test_pred_elastic = sgd_reg_elastic.predict(X_test)\n",
    "SGD_test_rmse_elastic = np.sqrt(mean_squared_error(y_test, SGD_test_pred_elastic))\n",
    "\n",
    "rmses = pd.concat([rmses, pd.DataFrame({'model':\"SGD Elastic\", 'rmse': SGD_test_rmse_elastic}, index=[0])])\n",
    "\n",
    "print(f\"SGD wt ElasticNet Test RMSE: {SGD_test_rmse_elastic:.3f}\")"
   ]
  },
  {
   "cell_type": "markdown",
   "metadata": {},
   "source": [
    "### 3.6 Fit and test SGDRegression using Early Stopping "
   ]
  },
  {
   "cell_type": "code",
   "execution_count": 81,
   "metadata": {},
   "outputs": [
    {
     "name": "stdout",
     "output_type": "stream",
     "text": [
      "Number of iterations = 8\n"
     ]
    }
   ],
   "source": [
    "#Stochastic Gradient with Early Stopping regularization:\n",
    "# \n",
    "# # tol is the early stopping criteria\n",
    "\n",
    "sgd_reg_es = SGDRegressor(max_iter=500, early_stopping=True, n_iter_no_change=5, tol=0.0001, validation_fraction=0.2, eta0=0.01)\n",
    "sgd_reg_es.fit(X_train, np.ravel(y_train))\n",
    "\n",
    "print(f\"Number of iterations = {sgd_reg_es.n_iter_}\")\n",
    "\n",
    "results[\"SGD_preds_es\"] = sgd_reg_es.predict(X_train)"
   ]
  },
  {
   "cell_type": "code",
   "execution_count": 82,
   "metadata": {},
   "outputs": [
    {
     "name": "stdout",
     "output_type": "stream",
     "text": [
      "SGD wt Early Stopping Test RMSE: 58.172\n"
     ]
    }
   ],
   "source": [
    "#Train RMSE\n",
    "#SGD Test RMSE with Eaarly Stopping\n",
    "SGD_test_pred_es = sgd_reg_es.predict(X_test)\n",
    "SGD_test_rmse_es = np.sqrt(mean_squared_error(y_test, SGD_test_pred_es))\n",
    "\n",
    "rmses = pd.concat([rmses, pd.DataFrame({'model':\"SGD ES\", 'rmse': SGD_test_rmse_es}, index=[0])])\n",
    "\n",
    "print(f\"SGD wt Early Stopping Test RMSE: {SGD_test_rmse_es:.3f}\")"
   ]
  },
  {
   "cell_type": "markdown",
   "metadata": {},
   "source": [
    "## 4.0 Polynomial Regression\n",
    "\n",
    "We've already seen an example of this. Let's now try applying this to our AirBnb data.\n",
    "\n",
    "This is done by creating the polynomial \"variables\" of the existing variables, then fitting them in a regular regression model"
   ]
  },
  {
   "cell_type": "code",
   "execution_count": 83,
   "metadata": {},
   "outputs": [],
   "source": [
    "from sklearn.preprocessing import PolynomialFeatures\n",
    "\n",
    "# Create second degree terms and interaction terms\n",
    "poly_features = PolynomialFeatures(degree=2).fit(X_train)\n",
    "X_train_poly = poly_features.transform(X_train)\n",
    "X_test_poly = poly_features.transform(X_test)\n",
    "\n",
    "#This will create the polynomial terms of the categorical variables too (since they are encoded as numbers)\n",
    "\n",
    "#if degree=3, then it creates all combinations: a, a^2, a^3, b, b^2, b^3, a.b, a^2.b, a.b^2, a^2.b^2 "
   ]
  },
  {
   "cell_type": "code",
   "execution_count": 84,
   "metadata": {},
   "outputs": [
    {
     "name": "stdout",
     "output_type": "stream",
     "text": [
      "Number of iterations = 6\n"
     ]
    }
   ],
   "source": [
    "#We still fit a linear regression model\n",
    "\n",
    "poly_lin_reg = SGDRegressor(max_iter=1000, penalty=None, eta0=0.01) \n",
    "poly_lin_reg.fit(X_train_poly, np.ravel(y_train))\n",
    "\n",
    "print(f\"Number of iterations = {poly_lin_reg.n_iter_}\")\n",
    "\n",
    "results[\"SGD_preds_ using polynomial\"] = poly_lin_reg.predict(X_train_poly)"
   ]
  },
  {
   "cell_type": "code",
   "execution_count": 85,
   "metadata": {},
   "outputs": [
    {
     "name": "stdout",
     "output_type": "stream",
     "text": [
      "SGD wt Polynomial input Test RMSE: 1751813817643.830\n"
     ]
    }
   ],
   "source": [
    "# Train RMSE\n",
    "# SGD with polynomial input\n",
    "poly_test_pred = poly_lin_reg.predict(X_test_poly)\n",
    "poly_test_rmse = np.sqrt(mean_squared_error(y_test, poly_test_pred))\n",
    "\n",
    "rmses = pd.concat([rmses, pd.DataFrame({'model':\"SGD Poly\", 'rmse': poly_test_rmse}, index=[0])])\n",
    "\n",
    "print(f\"SGD wt Polynomial input Test RMSE: {poly_test_rmse:.3f}\")"
   ]
  },
  {
   "cell_type": "markdown",
   "metadata": {},
   "source": []
  },
  {
   "cell_type": "markdown",
   "metadata": {},
   "source": [
    "The RMSE result from the polynomial is very large, a strong indicator that this may not be a good model. The problem is most likely related to having mamy coeficients that are not significant. We can use Lasso to reduce the size of some of the coeficients, or reduce the degree of the polynomial."
   ]
  },
  {
   "cell_type": "code",
   "execution_count": 86,
   "metadata": {},
   "outputs": [
    {
     "name": "stdout",
     "output_type": "stream",
     "text": [
      "Number of iterations = 14\n",
      "SGD wt Polynomial input l1 regularization Test RMSE: 293879615419.934\n"
     ]
    }
   ],
   "source": [
    "poly_lin_reg_l1 = SGDRegressor(max_iter=1000, penalty='l1', alpha=0.5,  eta0=0.01) \n",
    "poly_lin_reg_l1.fit(X_train_poly, np.ravel(y_train))\n",
    "\n",
    "print(f\"Number of iterations = {poly_lin_reg_l1.n_iter_}\")\n",
    "\n",
    "results[\"SGD_preds_ using polynomial with l1\"] = poly_lin_reg_l1.predict(X_train_poly)\n",
    "\n",
    "poly_test_pred_l1 = poly_lin_reg_l1.predict(X_test_poly)\n",
    "poly_test_rmse_l1 = np.sqrt(mean_squared_error(y_test, poly_test_pred_l1))\n",
    "\n",
    "rmses = pd.concat([rmses, pd.DataFrame({'model':\"SGD Poly l1\", 'rmse': poly_test_rmse_l1}, index=[0])])\n",
    "\n",
    "print(f\"SGD wt Polynomial input l1 regularization Test RMSE: {poly_test_rmse_l1:.3f}\")"
   ]
  },
  {
   "cell_type": "code",
   "execution_count": 87,
   "metadata": {},
   "outputs": [
    {
     "name": "stdout",
     "output_type": "stream",
     "text": [
      "Number of iterations = 15\n",
      "SGD wt Polynomial input l2 regularization Test RMSE: 323895794292.400\n"
     ]
    }
   ],
   "source": [
    "poly_lin_reg_l2 = SGDRegressor(max_iter=1000, penalty='l2', alpha=0.5,  eta0=0.01) \n",
    "poly_lin_reg_l2.fit(X_train_poly, np.ravel(y_train))\n",
    "\n",
    "print(f\"Number of iterations = {poly_lin_reg_l2.n_iter_}\")\n",
    "\n",
    "results[\"SGD_preds_ using polynomial with l2\"] = poly_lin_reg_l2.predict(X_train_poly)\n",
    "\n",
    "poly_test_pred_l2 = poly_lin_reg_l2.predict(X_test_poly)\n",
    "poly_test_rmse_l2 = np.sqrt(mean_squared_error(y_test, poly_test_pred_l2))\n",
    "\n",
    "rmses = pd.concat([rmses, pd.DataFrame({'model':\"SGD Poly l2\", 'rmse': poly_test_rmse_l2}, index=[0])])\n",
    "\n",
    "print(f\"SGD wt Polynomial input l2 regularization Test RMSE: {poly_test_rmse_l2:.3f}\")"
   ]
  },
  {
   "cell_type": "code",
   "execution_count": 88,
   "metadata": {},
   "outputs": [
    {
     "name": "stdout",
     "output_type": "stream",
     "text": [
      "Number of iterations = 6\n",
      "SGD wt Polynomial input elastic net regularization Test RMSE: 293879615419.934\n"
     ]
    }
   ],
   "source": [
    "poly_lin_reg_elastic = SGDRegressor(max_iter=1000, penalty='elasticnet', l1_ratio=.5, alpha=0.5,  eta0=0.01) \n",
    "poly_lin_reg_elastic.fit(X_train_poly, np.ravel(y_train))\n",
    "\n",
    "print(f\"Number of iterations = {poly_lin_reg_elastic.n_iter_}\")\n",
    "\n",
    "results[\"SGD_preds_ using polynomial with elastic net\"] = poly_lin_reg_elastic.predict(X_train_poly)\n",
    "\n",
    "poly_test_pred_elastic = poly_lin_reg_l1.predict(X_test_poly)\n",
    "poly_test_rmse_elastic= np.sqrt(mean_squared_error(y_test, poly_test_pred_elastic))\n",
    "\n",
    "rmses = pd.concat([rmses, pd.DataFrame({'model':\"SGD Poly elastic\", 'rmse': poly_test_rmse_elastic}, index=[0])])\n",
    "\n",
    "print(f\"SGD wt Polynomial input elastic net regularization Test RMSE: {poly_test_rmse_elastic:.3f}\")"
   ]
  },
  {
   "cell_type": "code",
   "execution_count": 89,
   "metadata": {},
   "outputs": [
    {
     "name": "stdout",
     "output_type": "stream",
     "text": [
      "Number of iterations = 10\n"
     ]
    }
   ],
   "source": [
    "#Stochastic Gradient with Early Stopping regularization:\n",
    "# \n",
    "# # tol is the early stopping criteria\n",
    "\n",
    "sgd_reg_es_poly = SGDRegressor(max_iter=500, early_stopping=True)\n",
    "sgd_reg_es_poly.fit(X_train_poly, np.ravel(y_train))\n",
    "\n",
    "print(f\"Number of iterations = {sgd_reg_es_poly.n_iter_}\")\n",
    "\n",
    "results[\"sgd_reg_es_poly\"] = sgd_reg_es_poly.predict(X_train_poly)"
   ]
  },
  {
   "cell_type": "code",
   "execution_count": 90,
   "metadata": {},
   "outputs": [
    {
     "name": "stdout",
     "output_type": "stream",
     "text": [
      "SGD wt Early Stopping Test RMSE: 1660040251149.665\n"
     ]
    }
   ],
   "source": [
    "#Train RMSE\n",
    "#SGD Test RMSE with Eaarly Stopping\n",
    "SGD_test_pred_es_poly = sgd_reg_es_poly.predict(X_test_poly)\n",
    "SGD_test_pred_es_poly = np.sqrt(mean_squared_error(y_test, SGD_test_pred_es_poly))\n",
    "\n",
    "rmses = pd.concat([rmses, pd.DataFrame({'model':\"SGD ES ploy\", 'rmse': SGD_test_pred_es_poly}, index=[0])])\n",
    "\n",
    "print(f\"SGD wt Early Stopping Test RMSE: {SGD_test_pred_es_poly:.3f}\")"
   ]
  },
  {
   "cell_type": "code",
   "execution_count": 91,
   "metadata": {},
   "outputs": [
    {
     "data": {
      "text/html": [
       "<div>\n",
       "<style scoped>\n",
       "    .dataframe tbody tr th:only-of-type {\n",
       "        vertical-align: middle;\n",
       "    }\n",
       "\n",
       "    .dataframe tbody tr th {\n",
       "        vertical-align: top;\n",
       "    }\n",
       "\n",
       "    .dataframe thead th {\n",
       "        text-align: right;\n",
       "    }\n",
       "</style>\n",
       "<table border=\"1\" class=\"dataframe\">\n",
       "  <thead>\n",
       "    <tr style=\"text-align: right;\">\n",
       "      <th></th>\n",
       "      <th>actual</th>\n",
       "      <th>dummy</th>\n",
       "      <th>SGD_preds</th>\n",
       "      <th>SGD_preds_l1</th>\n",
       "      <th>SGD_preds_elastic</th>\n",
       "      <th>SGD_preds_es</th>\n",
       "      <th>SGD_preds_ using polynomial</th>\n",
       "      <th>SGD_preds_ using polynomial with l1</th>\n",
       "      <th>SGD_preds_ using polynomial with l2</th>\n",
       "      <th>SGD_preds_ using polynomial with elastic net</th>\n",
       "      <th>sgd_reg_es_poly</th>\n",
       "    </tr>\n",
       "  </thead>\n",
       "  <tbody>\n",
       "    <tr>\n",
       "      <th>0</th>\n",
       "      <td>NaN</td>\n",
       "      <td>166.546624</td>\n",
       "      <td>249.565962</td>\n",
       "      <td>252.457911</td>\n",
       "      <td>243.102832</td>\n",
       "      <td>251.943191</td>\n",
       "      <td>9.419895e+10</td>\n",
       "      <td>3.816165e+10</td>\n",
       "      <td>1.680854e+11</td>\n",
       "      <td>-9.022714e+10</td>\n",
       "      <td>-2.995860e+11</td>\n",
       "    </tr>\n",
       "    <tr>\n",
       "      <th>1</th>\n",
       "      <td>NaN</td>\n",
       "      <td>166.546624</td>\n",
       "      <td>249.768089</td>\n",
       "      <td>251.993255</td>\n",
       "      <td>239.858208</td>\n",
       "      <td>252.145687</td>\n",
       "      <td>2.446842e+11</td>\n",
       "      <td>4.836272e+11</td>\n",
       "      <td>5.218145e+09</td>\n",
       "      <td>3.645263e+11</td>\n",
       "      <td>-1.676677e+11</td>\n",
       "    </tr>\n",
       "    <tr>\n",
       "      <th>2</th>\n",
       "      <td>NaN</td>\n",
       "      <td>166.546624</td>\n",
       "      <td>231.252827</td>\n",
       "      <td>231.226838</td>\n",
       "      <td>219.125122</td>\n",
       "      <td>229.405656</td>\n",
       "      <td>6.456501e+11</td>\n",
       "      <td>5.656021e+09</td>\n",
       "      <td>2.388699e+11</td>\n",
       "      <td>2.654888e+11</td>\n",
       "      <td>-9.404306e+11</td>\n",
       "    </tr>\n",
       "    <tr>\n",
       "      <th>3</th>\n",
       "      <td>NaN</td>\n",
       "      <td>166.546624</td>\n",
       "      <td>74.649825</td>\n",
       "      <td>73.988271</td>\n",
       "      <td>75.849447</td>\n",
       "      <td>78.818278</td>\n",
       "      <td>-4.759169e+10</td>\n",
       "      <td>1.123824e+11</td>\n",
       "      <td>3.108923e+11</td>\n",
       "      <td>-1.756905e+11</td>\n",
       "      <td>-2.372206e+10</td>\n",
       "    </tr>\n",
       "    <tr>\n",
       "      <th>4</th>\n",
       "      <td>NaN</td>\n",
       "      <td>166.546624</td>\n",
       "      <td>94.513466</td>\n",
       "      <td>96.399080</td>\n",
       "      <td>106.522560</td>\n",
       "      <td>99.986766</td>\n",
       "      <td>5.470134e+11</td>\n",
       "      <td>2.657246e+11</td>\n",
       "      <td>1.655537e+11</td>\n",
       "      <td>4.310337e+10</td>\n",
       "      <td>-8.265141e+11</td>\n",
       "    </tr>\n",
       "    <tr>\n",
       "      <th>...</th>\n",
       "      <td>...</td>\n",
       "      <td>...</td>\n",
       "      <td>...</td>\n",
       "      <td>...</td>\n",
       "      <td>...</td>\n",
       "      <td>...</td>\n",
       "      <td>...</td>\n",
       "      <td>...</td>\n",
       "      <td>...</td>\n",
       "      <td>...</td>\n",
       "      <td>...</td>\n",
       "    </tr>\n",
       "    <tr>\n",
       "      <th>2483</th>\n",
       "      <td>NaN</td>\n",
       "      <td>166.546624</td>\n",
       "      <td>68.277087</td>\n",
       "      <td>73.114627</td>\n",
       "      <td>74.199526</td>\n",
       "      <td>75.729599</td>\n",
       "      <td>-1.060756e+10</td>\n",
       "      <td>2.796130e+11</td>\n",
       "      <td>1.915206e+11</td>\n",
       "      <td>3.091634e+11</td>\n",
       "      <td>-8.606628e+10</td>\n",
       "    </tr>\n",
       "    <tr>\n",
       "      <th>2484</th>\n",
       "      <td>NaN</td>\n",
       "      <td>166.546624</td>\n",
       "      <td>81.989970</td>\n",
       "      <td>79.509789</td>\n",
       "      <td>85.507881</td>\n",
       "      <td>91.722860</td>\n",
       "      <td>1.255416e+10</td>\n",
       "      <td>1.859497e+11</td>\n",
       "      <td>2.626738e+11</td>\n",
       "      <td>-2.157456e+11</td>\n",
       "      <td>-1.816932e+11</td>\n",
       "    </tr>\n",
       "    <tr>\n",
       "      <th>2485</th>\n",
       "      <td>NaN</td>\n",
       "      <td>166.546624</td>\n",
       "      <td>233.776809</td>\n",
       "      <td>231.486506</td>\n",
       "      <td>220.904647</td>\n",
       "      <td>233.751342</td>\n",
       "      <td>-9.358796e+10</td>\n",
       "      <td>2.161722e+11</td>\n",
       "      <td>4.080996e+11</td>\n",
       "      <td>-3.493911e+11</td>\n",
       "      <td>9.500508e+10</td>\n",
       "    </tr>\n",
       "    <tr>\n",
       "      <th>2486</th>\n",
       "      <td>NaN</td>\n",
       "      <td>166.546624</td>\n",
       "      <td>72.666509</td>\n",
       "      <td>72.395952</td>\n",
       "      <td>69.442214</td>\n",
       "      <td>81.683539</td>\n",
       "      <td>1.264260e+11</td>\n",
       "      <td>1.479414e+11</td>\n",
       "      <td>3.093240e+11</td>\n",
       "      <td>-4.297890e+11</td>\n",
       "      <td>6.530024e+10</td>\n",
       "    </tr>\n",
       "    <tr>\n",
       "      <th>2487</th>\n",
       "      <td>NaN</td>\n",
       "      <td>166.546624</td>\n",
       "      <td>126.130272</td>\n",
       "      <td>124.236517</td>\n",
       "      <td>124.323842</td>\n",
       "      <td>123.643969</td>\n",
       "      <td>-5.551770e+11</td>\n",
       "      <td>7.256694e+10</td>\n",
       "      <td>5.754818e+11</td>\n",
       "      <td>-3.957422e+11</td>\n",
       "      <td>8.430463e+10</td>\n",
       "    </tr>\n",
       "  </tbody>\n",
       "</table>\n",
       "<p>2488 rows × 11 columns</p>\n",
       "</div>"
      ],
      "text/plain": [
       "      actual       dummy   SGD_preds  SGD_preds_l1  SGD_preds_elastic  \\\n",
       "0        NaN  166.546624  249.565962    252.457911         243.102832   \n",
       "1        NaN  166.546624  249.768089    251.993255         239.858208   \n",
       "2        NaN  166.546624  231.252827    231.226838         219.125122   \n",
       "3        NaN  166.546624   74.649825     73.988271          75.849447   \n",
       "4        NaN  166.546624   94.513466     96.399080         106.522560   \n",
       "...      ...         ...         ...           ...                ...   \n",
       "2483     NaN  166.546624   68.277087     73.114627          74.199526   \n",
       "2484     NaN  166.546624   81.989970     79.509789          85.507881   \n",
       "2485     NaN  166.546624  233.776809    231.486506         220.904647   \n",
       "2486     NaN  166.546624   72.666509     72.395952          69.442214   \n",
       "2487     NaN  166.546624  126.130272    124.236517         124.323842   \n",
       "\n",
       "      SGD_preds_es  SGD_preds_ using polynomial  \\\n",
       "0       251.943191                 9.419895e+10   \n",
       "1       252.145687                 2.446842e+11   \n",
       "2       229.405656                 6.456501e+11   \n",
       "3        78.818278                -4.759169e+10   \n",
       "4        99.986766                 5.470134e+11   \n",
       "...            ...                          ...   \n",
       "2483     75.729599                -1.060756e+10   \n",
       "2484     91.722860                 1.255416e+10   \n",
       "2485    233.751342                -9.358796e+10   \n",
       "2486     81.683539                 1.264260e+11   \n",
       "2487    123.643969                -5.551770e+11   \n",
       "\n",
       "      SGD_preds_ using polynomial with l1  \\\n",
       "0                            3.816165e+10   \n",
       "1                            4.836272e+11   \n",
       "2                            5.656021e+09   \n",
       "3                            1.123824e+11   \n",
       "4                            2.657246e+11   \n",
       "...                                   ...   \n",
       "2483                         2.796130e+11   \n",
       "2484                         1.859497e+11   \n",
       "2485                         2.161722e+11   \n",
       "2486                         1.479414e+11   \n",
       "2487                         7.256694e+10   \n",
       "\n",
       "      SGD_preds_ using polynomial with l2  \\\n",
       "0                            1.680854e+11   \n",
       "1                            5.218145e+09   \n",
       "2                            2.388699e+11   \n",
       "3                            3.108923e+11   \n",
       "4                            1.655537e+11   \n",
       "...                                   ...   \n",
       "2483                         1.915206e+11   \n",
       "2484                         2.626738e+11   \n",
       "2485                         4.080996e+11   \n",
       "2486                         3.093240e+11   \n",
       "2487                         5.754818e+11   \n",
       "\n",
       "      SGD_preds_ using polynomial with elastic net  sgd_reg_es_poly  \n",
       "0                                    -9.022714e+10    -2.995860e+11  \n",
       "1                                     3.645263e+11    -1.676677e+11  \n",
       "2                                     2.654888e+11    -9.404306e+11  \n",
       "3                                    -1.756905e+11    -2.372206e+10  \n",
       "4                                     4.310337e+10    -8.265141e+11  \n",
       "...                                            ...              ...  \n",
       "2483                                  3.091634e+11    -8.606628e+10  \n",
       "2484                                 -2.157456e+11    -1.816932e+11  \n",
       "2485                                 -3.493911e+11     9.500508e+10  \n",
       "2486                                 -4.297890e+11     6.530024e+10  \n",
       "2487                                 -3.957422e+11     8.430463e+10  \n",
       "\n",
       "[2488 rows x 11 columns]"
      ]
     },
     "execution_count": 91,
     "metadata": {},
     "output_type": "execute_result"
    }
   ],
   "source": [
    "results"
   ]
  },
  {
   "attachments": {},
   "cell_type": "markdown",
   "metadata": {},
   "source": [
    "In the given example, the SGD model with early_stop = True achieved an SSE of 1.660040e+12, which is considerably lower than the SSE of the non-early stopping models (SGD Poly). This indicates that early stopping helped to prevent overfitting and resulted in a model that generalized better to new data. But not necessarily lower than the SSE values of the other regularized linear regression models (SGD Ploy L1,  SGD Poly L2, SGD Ploy Elastic) with Lasso and Elastic Net regularization. We can produce a model with a better SSE walue using Early Stop by changing the hyper parameter but that would be at the risk of Overfitting. "
   ]
  },
  {
   "cell_type": "markdown",
   "metadata": {},
   "source": [
    "## 5.0 Summary"
   ]
  },
  {
   "cell_type": "code",
   "execution_count": 92,
   "metadata": {},
   "outputs": [
    {
     "data": {
      "text/html": [
       "<div>\n",
       "<style scoped>\n",
       "    .dataframe tbody tr th:only-of-type {\n",
       "        vertical-align: middle;\n",
       "    }\n",
       "\n",
       "    .dataframe tbody tr th {\n",
       "        vertical-align: top;\n",
       "    }\n",
       "\n",
       "    .dataframe thead th {\n",
       "        text-align: right;\n",
       "    }\n",
       "</style>\n",
       "<table border=\"1\" class=\"dataframe\">\n",
       "  <thead>\n",
       "    <tr style=\"text-align: right;\">\n",
       "      <th></th>\n",
       "      <th>model</th>\n",
       "      <th>rmse</th>\n",
       "    </tr>\n",
       "  </thead>\n",
       "  <tbody>\n",
       "    <tr>\n",
       "      <th>0</th>\n",
       "      <td>baseline</td>\n",
       "      <td>1.026252e+02</td>\n",
       "    </tr>\n",
       "    <tr>\n",
       "      <th>0</th>\n",
       "      <td>SGD</td>\n",
       "      <td>5.728650e+01</td>\n",
       "    </tr>\n",
       "    <tr>\n",
       "      <th>0</th>\n",
       "      <td>SGD L2</td>\n",
       "      <td>5.959775e+01</td>\n",
       "    </tr>\n",
       "    <tr>\n",
       "      <th>0</th>\n",
       "      <td>SGD L1</td>\n",
       "      <td>5.735449e+01</td>\n",
       "    </tr>\n",
       "    <tr>\n",
       "      <th>0</th>\n",
       "      <td>SGD Elastic</td>\n",
       "      <td>5.857045e+01</td>\n",
       "    </tr>\n",
       "    <tr>\n",
       "      <th>0</th>\n",
       "      <td>SGD ES</td>\n",
       "      <td>5.817222e+01</td>\n",
       "    </tr>\n",
       "    <tr>\n",
       "      <th>0</th>\n",
       "      <td>SGD Poly</td>\n",
       "      <td>1.751814e+12</td>\n",
       "    </tr>\n",
       "    <tr>\n",
       "      <th>0</th>\n",
       "      <td>SGD Poly l1</td>\n",
       "      <td>2.938796e+11</td>\n",
       "    </tr>\n",
       "    <tr>\n",
       "      <th>0</th>\n",
       "      <td>SGD Poly l2</td>\n",
       "      <td>3.238958e+11</td>\n",
       "    </tr>\n",
       "    <tr>\n",
       "      <th>0</th>\n",
       "      <td>SGD Poly elastic</td>\n",
       "      <td>2.938796e+11</td>\n",
       "    </tr>\n",
       "    <tr>\n",
       "      <th>0</th>\n",
       "      <td>SGD ES ploy</td>\n",
       "      <td>1.660040e+12</td>\n",
       "    </tr>\n",
       "  </tbody>\n",
       "</table>\n",
       "</div>"
      ],
      "text/plain": [
       "              model          rmse\n",
       "0          baseline  1.026252e+02\n",
       "0               SGD  5.728650e+01\n",
       "0            SGD L2  5.959775e+01\n",
       "0            SGD L1  5.735449e+01\n",
       "0       SGD Elastic  5.857045e+01\n",
       "0            SGD ES  5.817222e+01\n",
       "0          SGD Poly  1.751814e+12\n",
       "0       SGD Poly l1  2.938796e+11\n",
       "0       SGD Poly l2  3.238958e+11\n",
       "0  SGD Poly elastic  2.938796e+11\n",
       "0       SGD ES ploy  1.660040e+12"
      ]
     },
     "execution_count": 92,
     "metadata": {},
     "output_type": "execute_result"
    }
   ],
   "source": [
    "rmses"
   ]
  }
 ],
 "metadata": {
  "kernelspec": {
   "display_name": "Python 3",
   "language": "python",
   "name": "python3"
  },
  "language_info": {
   "codemirror_mode": {
    "name": "ipython",
    "version": 3
   },
   "file_extension": ".py",
   "mimetype": "text/x-python",
   "name": "python",
   "nbconvert_exporter": "python",
   "pygments_lexer": "ipython3",
   "version": "3.9.12"
  },
  "nav_menu": {
   "height": "279px",
   "width": "309px"
  },
  "toc": {
   "base_numbering": 1,
   "nav_menu": {},
   "number_sections": false,
   "sideBar": true,
   "skip_h1_title": false,
   "title_cell": "Table of Contents",
   "title_sidebar": "Contents",
   "toc_cell": false,
   "toc_position": {
    "height": "calc(100% - 180px)",
    "left": "10px",
    "top": "150px",
    "width": "283.398px"
   },
   "toc_section_display": "block",
   "toc_window_display": false
  },
  "varInspector": {
   "cols": {
    "lenName": 16,
    "lenType": 16,
    "lenVar": 40
   },
   "kernels_config": {
    "python": {
     "delete_cmd_postfix": "",
     "delete_cmd_prefix": "del ",
     "library": "var_list.py",
     "varRefreshCmd": "print(var_dic_list())"
    },
    "r": {
     "delete_cmd_postfix": ") ",
     "delete_cmd_prefix": "rm(",
     "library": "var_list.r",
     "varRefreshCmd": "cat(var_dic_list()) "
    }
   },
   "types_to_exclude": [
    "module",
    "function",
    "builtin_function_or_method",
    "instance",
    "_Feature"
   ],
   "window_display": false
  },
  "vscode": {
   "interpreter": {
    "hash": "518071c88b4194aee059da36c8bb8c7f03edabff5e31c99a4f47aa39aa99e517"
   }
  }
 },
 "nbformat": 4,
 "nbformat_minor": 4
}
